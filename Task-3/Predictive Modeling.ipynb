{
 "cells": [
  {
   "cell_type": "code",
   "execution_count": 1,
   "id": "3b9cb3df",
   "metadata": {},
   "outputs": [],
   "source": [
    "# Import necessary libraries\n",
    "import pandas as pd\n",
    "from sklearn.model_selection import train_test_split\n",
    "from sklearn.preprocessing import StandardScaler, LabelEncoder\n",
    "from sklearn.linear_model import LogisticRegression\n",
    "from sklearn.tree import DecisionTreeClassifier\n",
    "from sklearn.metrics import accuracy_score, precision_score, recall_score, f1_score, classification_report"
   ]
  },
  {
   "cell_type": "code",
   "execution_count": 2,
   "id": "e1d38b8e",
   "metadata": {},
   "outputs": [],
   "source": [
    "# Load the dataset\n",
    "url = \"https://raw.githubusercontent.com/gurmindero7/test_datasets/main/diabetes_prediction_dataset.csv\"\n",
    "diabetes_data = pd.read_csv(url)"
   ]
  },
  {
   "cell_type": "code",
   "execution_count": 4,
   "id": "0d9996b0",
   "metadata": {},
   "outputs": [],
   "source": [
    "# 2. Data Preprocessing\n",
    "\n",
    "# a. Replace missing or undefined values\n",
    "diabetes_data.replace(\"?\", pd.NA, inplace=True)\n",
    "diabetes_data.fillna(diabetes_data.median(numeric_only=True), inplace=True)"
   ]
  },
  {
   "cell_type": "code",
   "execution_count": 5,
   "id": "fd29f50e",
   "metadata": {},
   "outputs": [],
   "source": [
    "# b. Convert categorical variables into numerical\n",
    "categorical_columns = diabetes_data.select_dtypes(include=['object']).columns\n",
    "label_encoders = {}\n",
    "for col in categorical_columns:\n",
    "    le = LabelEncoder()\n",
    "    diabetes_data[col] = le.fit_transform(diabetes_data[col])\n",
    "    label_encoders[col] = le  "
   ]
  },
  {
   "cell_type": "code",
   "execution_count": 6,
   "id": "2e5760b2",
   "metadata": {},
   "outputs": [],
   "source": [
    "# c. Normalize or scale features\n",
    "scaler = StandardScaler()\n",
    "X = diabetes_data.drop(\"diabetes\", axis=1)\n",
    "y = diabetes_data[\"diabetes\"]\n",
    "X_scaled = scaler.fit_transform(X)"
   ]
  },
  {
   "cell_type": "code",
   "execution_count": 7,
   "id": "bc744688",
   "metadata": {},
   "outputs": [],
   "source": [
    "# 3. Build and Evaluate Machine Learning Models\n",
    "\n",
    "# Split data into training and testing sets\n",
    "X_train, X_test, y_train, y_test = train_test_split(X_scaled, y, test_size=0.2, random_state=42)\n"
   ]
  },
  {
   "cell_type": "code",
   "execution_count": 8,
   "id": "cc3a8df0",
   "metadata": {},
   "outputs": [],
   "source": [
    "# Logistic Regression Model\n",
    "logistic_model = LogisticRegression(random_state=42)\n",
    "logistic_model.fit(X_train, y_train)\n",
    "y_pred_logistic = logistic_model.predict(X_test)"
   ]
  },
  {
   "cell_type": "code",
   "execution_count": 9,
   "id": "8ca0ed9c",
   "metadata": {},
   "outputs": [],
   "source": [
    "# Decision Tree Model\n",
    "decision_tree_model = DecisionTreeClassifier(random_state=42)\n",
    "decision_tree_model.fit(X_train, y_train)\n",
    "y_pred_decision_tree = decision_tree_model.predict(X_test)\n"
   ]
  },
  {
   "cell_type": "code",
   "execution_count": 10,
   "id": "1bf05a5c",
   "metadata": {},
   "outputs": [],
   "source": [
    "# Evaluation Function\n",
    "def evaluate_model(y_true, y_pred, model_name):\n",
    "    print(f\"Evaluation Metrics for {model_name}:\")\n",
    "    print(f\"Accuracy: {accuracy_score(y_true, y_pred):.2f}\")\n",
    "    print(f\"Precision: {precision_score(y_true, y_pred):.2f}\")\n",
    "    print(f\"Recall: {recall_score(y_true, y_pred):.2f}\")\n",
    "    print(f\"F1 Score: {f1_score(y_true, y_pred):.2f}\")\n",
    "    print(classification_report(y_true, y_pred))\n",
    "    print(\"-\" * 50)"
   ]
  },
  {
   "cell_type": "code",
   "execution_count": 11,
   "id": "bfa00b8e",
   "metadata": {},
   "outputs": [
    {
     "name": "stdout",
     "output_type": "stream",
     "text": [
      "Evaluation Metrics for Logistic Regression:\n",
      "Accuracy: 0.96\n",
      "Precision: 0.86\n",
      "Recall: 0.61\n",
      "F1 Score: 0.72\n",
      "              precision    recall  f1-score   support\n",
      "\n",
      "           0       0.96      0.99      0.98     18292\n",
      "           1       0.86      0.61      0.72      1708\n",
      "\n",
      "    accuracy                           0.96     20000\n",
      "   macro avg       0.91      0.80      0.85     20000\n",
      "weighted avg       0.96      0.96      0.96     20000\n",
      "\n",
      "--------------------------------------------------\n"
     ]
    }
   ],
   "source": [
    "# Evaluate Logistic Regression\n",
    "evaluate_model(y_test, y_pred_logistic, \"Logistic Regression\")"
   ]
  },
  {
   "cell_type": "code",
   "execution_count": 12,
   "id": "abba3214",
   "metadata": {},
   "outputs": [
    {
     "name": "stdout",
     "output_type": "stream",
     "text": [
      "Evaluation Metrics for Decision Tree:\n",
      "Accuracy: 0.95\n",
      "Precision: 0.71\n",
      "Recall: 0.74\n",
      "F1 Score: 0.72\n",
      "              precision    recall  f1-score   support\n",
      "\n",
      "           0       0.98      0.97      0.97     18292\n",
      "           1       0.71      0.74      0.72      1708\n",
      "\n",
      "    accuracy                           0.95     20000\n",
      "   macro avg       0.84      0.85      0.85     20000\n",
      "weighted avg       0.95      0.95      0.95     20000\n",
      "\n",
      "--------------------------------------------------\n"
     ]
    }
   ],
   "source": [
    "# Evaluate Decision Tree\n",
    "evaluate_model(y_test, y_pred_decision_tree, \"Decision Tree\")"
   ]
  },
  {
   "cell_type": "code",
   "execution_count": null,
   "id": "5ff02632",
   "metadata": {},
   "outputs": [],
   "source": []
  }
 ],
 "metadata": {
  "kernelspec": {
   "display_name": "Python 3 (ipykernel)",
   "language": "python",
   "name": "python3"
  },
  "language_info": {
   "codemirror_mode": {
    "name": "ipython",
    "version": 3
   },
   "file_extension": ".py",
   "mimetype": "text/x-python",
   "name": "python",
   "nbconvert_exporter": "python",
   "pygments_lexer": "ipython3",
   "version": "3.11.3"
  }
 },
 "nbformat": 4,
 "nbformat_minor": 5
}
