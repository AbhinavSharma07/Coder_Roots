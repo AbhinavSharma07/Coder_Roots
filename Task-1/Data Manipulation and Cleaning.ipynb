{
 "cells": [
  {
   "cell_type": "code",
   "execution_count": 1,
   "id": "a88855d2",
   "metadata": {},
   "outputs": [],
   "source": [
    "import pandas as pd"
   ]
  },
  {
   "cell_type": "code",
   "execution_count": 2,
   "id": "e39d1776",
   "metadata": {},
   "outputs": [],
   "source": [
    "# Load the dataset\n",
    "url = \"https://raw.githubusercontent.com/gurmindero7/test_datasets/main/employee_data.csv\"\n",
    "employee_data = pd.read_csv(url)"
   ]
  },
  {
   "cell_type": "code",
   "execution_count": 3,
   "id": "ec32aaad",
   "metadata": {},
   "outputs": [],
   "source": [
    "# 1. Data Cleaning\n",
    "\n",
    "# a. Remove duplicate entries\n",
    "employee_data = employee_data.drop_duplicates()\n",
    "\n",
    "# b. Handle missing values (filling with default values)\n",
    "default_values = {\n",
    "    \"Name\": \"Unknown\",\n",
    "    \"Department\": \"Not Assigned\",\n",
    "    \"Salary\": 0,\n",
    "    \"JoiningDate\": \"2000-01-01\",\n",
    "    \"Status\": \"Unknown\"\n",
    "}\n",
    "employee_data.fillna(value=default_values, inplace=True)\n",
    "\n",
    "# c. Convert JoiningDate column to a proper datetime format\n",
    "employee_data[\"JoiningDate\"] = pd.to_datetime(employee_data[\"JoiningDate\"], errors='coerce')\n",
    "\n",
    "# d. Filter out employees who are no longer working (where Status is 'Resigned')\n",
    "cleaned_data = employee_data[employee_data[\"Status\"] != \"Resigned\"]"
   ]
  },
  {
   "cell_type": "code",
   "execution_count": 4,
   "id": "6c229cad",
   "metadata": {},
   "outputs": [
    {
     "name": "stdout",
     "output_type": "stream",
     "text": [
      "Cleaned DataFrame:\n",
      "     EmployeeID               Name    Department    Salary JoiningDate  \\\n",
      "0          7970            Unknown    Operations   44168.0  2023-04-16   \n",
      "1          1752     Shannon Franco            HR   80140.0  2016-08-22   \n",
      "2          8478            Unknown            HR  144316.0  2023-11-04   \n",
      "3          5157    Barbara Alvarez    Operations   35075.0  2023-04-22   \n",
      "4          1816          Adam Cobb         Sales  142537.0  2016-05-12   \n",
      "..          ...                ...           ...       ...         ...   \n",
      "494        4951     Terry Harrison  Not Assigned  124381.0  2022-10-10   \n",
      "495        2862            Unknown    Operations   83271.0  2019-03-19   \n",
      "497        1009            Unknown         Sales  102768.0  2023-03-24   \n",
      "498        3062  Christopher Perry  Not Assigned  129374.0  2023-12-01   \n",
      "499        3252     Amanda Goodwin    Operations   61499.0  2020-07-18   \n",
      "\n",
      "         Status  \n",
      "0    Terminated  \n",
      "1    Terminated  \n",
      "2    Terminated  \n",
      "3       Unknown  \n",
      "4        Active  \n",
      "..          ...  \n",
      "494    On Leave  \n",
      "495      Active  \n",
      "497      Active  \n",
      "498  Terminated  \n",
      "499     Unknown  \n",
      "\n",
      "[386 rows x 6 columns]\n",
      "\n",
      "Average Salary by Department:\n",
      "Department\n",
      "Engineering     94982.187500\n",
      "Finance         82435.655172\n",
      "HR              77911.100000\n",
      "Marketing       73911.195652\n",
      "Not Assigned    94436.400000\n",
      "Operations      82279.393939\n",
      "Sales           88342.964912\n",
      "Name: Salary, dtype: float64\n",
      "\n",
      "Employees Joined After 2020:\n",
      "     EmployeeID               Name    Department    Salary JoiningDate  \\\n",
      "0          7970            Unknown    Operations   44168.0  2023-04-16   \n",
      "2          8478            Unknown            HR  144316.0  2023-11-04   \n",
      "3          5157    Barbara Alvarez    Operations   35075.0  2023-04-22   \n",
      "6          6247      Allison Salas   Engineering   59154.0  2023-06-14   \n",
      "11         9068            Unknown    Operations   70001.0  2021-05-18   \n",
      "..          ...                ...           ...       ...         ...   \n",
      "492        7210      Phillip Riley         Sales   41221.0  2023-01-04   \n",
      "494        4951     Terry Harrison  Not Assigned  124381.0  2022-10-10   \n",
      "497        1009            Unknown         Sales  102768.0  2023-03-24   \n",
      "498        3062  Christopher Perry  Not Assigned  129374.0  2023-12-01   \n",
      "499        3252     Amanda Goodwin    Operations   61499.0  2020-07-18   \n",
      "\n",
      "         Status  \n",
      "0    Terminated  \n",
      "2    Terminated  \n",
      "3       Unknown  \n",
      "6      On Leave  \n",
      "11   Terminated  \n",
      "..          ...  \n",
      "492      Active  \n",
      "494    On Leave  \n",
      "497      Active  \n",
      "498  Terminated  \n",
      "499     Unknown  \n",
      "\n",
      "[162 rows x 6 columns]\n"
     ]
    }
   ],
   "source": [
    "# 2. Analysis\n",
    "\n",
    "# a. Find the average salary of employees in each department\n",
    "average_salary_by_department = cleaned_data.groupby(\"Department\")[\"Salary\"].mean()\n",
    "\n",
    "# b. List all employees who joined after the year 2020\n",
    "employees_joined_after_2020 = cleaned_data[cleaned_data[\"JoiningDate\"] > \"2020-01-01\"]\n",
    "\n",
    "# Display outputs\n",
    "print(\"Cleaned DataFrame:\")\n",
    "print(cleaned_data)\n",
    "\n",
    "print(\"\\nAverage Salary by Department:\")\n",
    "print(average_salary_by_department)\n",
    "\n",
    "print(\"\\nEmployees Joined After 2020:\")\n",
    "print(employees_joined_after_2020)"
   ]
  },
  {
   "cell_type": "code",
   "execution_count": null,
   "id": "f24b3611",
   "metadata": {},
   "outputs": [],
   "source": []
  }
 ],
 "metadata": {
  "kernelspec": {
   "display_name": "Python 3 (ipykernel)",
   "language": "python",
   "name": "python3"
  },
  "language_info": {
   "codemirror_mode": {
    "name": "ipython",
    "version": 3
   },
   "file_extension": ".py",
   "mimetype": "text/x-python",
   "name": "python",
   "nbconvert_exporter": "python",
   "pygments_lexer": "ipython3",
   "version": "3.11.3"
  }
 },
 "nbformat": 4,
 "nbformat_minor": 5
}
